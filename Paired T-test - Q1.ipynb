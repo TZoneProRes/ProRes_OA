{
 "cells": [
  {
   "cell_type": "code",
   "execution_count": 2,
   "metadata": {},
   "outputs": [],
   "source": [
    "import pandas as pd\n",
    "import numpy as np \n",
    "from scipy import stats\n",
    "from scipy.stats import f\n",
    "from statsmodels.stats import weightstats as stests"
   ]
  },
  {
   "cell_type": "code",
   "execution_count": 3,
   "metadata": {
    "scrolled": true
   },
   "outputs": [
    {
     "data": {
      "text/html": [
       "<div>\n",
       "<style scoped>\n",
       "    .dataframe tbody tr th:only-of-type {\n",
       "        vertical-align: middle;\n",
       "    }\n",
       "\n",
       "    .dataframe tbody tr th {\n",
       "        vertical-align: top;\n",
       "    }\n",
       "\n",
       "    .dataframe thead th {\n",
       "        text-align: right;\n",
       "    }\n",
       "</style>\n",
       "<table border=\"1\" class=\"dataframe\">\n",
       "  <thead>\n",
       "    <tr style=\"text-align: right;\">\n",
       "      <th></th>\n",
       "      <th>Components</th>\n",
       "      <th>Global</th>\n",
       "      <th>Round1</th>\n",
       "      <th>Round2</th>\n",
       "      <th>Round3</th>\n",
       "      <th>Round4</th>\n",
       "      <th>Round5</th>\n",
       "      <th>Round6</th>\n",
       "    </tr>\n",
       "  </thead>\n",
       "  <tbody>\n",
       "    <tr>\n",
       "      <th>0</th>\n",
       "      <td>Lobbyists</td>\n",
       "      <td>196</td>\n",
       "      <td>63</td>\n",
       "      <td>10</td>\n",
       "      <td>14</td>\n",
       "      <td>24</td>\n",
       "      <td>31</td>\n",
       "      <td>54</td>\n",
       "    </tr>\n",
       "    <tr>\n",
       "      <th>1</th>\n",
       "      <td>Industrial research alone</td>\n",
       "      <td>386</td>\n",
       "      <td>386</td>\n",
       "      <td>0</td>\n",
       "      <td>0</td>\n",
       "      <td>0</td>\n",
       "      <td>0</td>\n",
       "      <td>0</td>\n",
       "    </tr>\n",
       "    <tr>\n",
       "      <th>2</th>\n",
       "      <td>end-users of research and innovation outputs &amp;...</td>\n",
       "      <td>579</td>\n",
       "      <td>76</td>\n",
       "      <td>78</td>\n",
       "      <td>171</td>\n",
       "      <td>136</td>\n",
       "      <td>119</td>\n",
       "      <td>0</td>\n",
       "    </tr>\n",
       "    <tr>\n",
       "      <th>3</th>\n",
       "      <td>education (higher education &amp; vocational train...</td>\n",
       "      <td>608</td>\n",
       "      <td>56</td>\n",
       "      <td>162</td>\n",
       "      <td>239</td>\n",
       "      <td>152</td>\n",
       "      <td>0</td>\n",
       "      <td>0</td>\n",
       "    </tr>\n",
       "    <tr>\n",
       "      <th>4</th>\n",
       "      <td>research at the university (academic research)</td>\n",
       "      <td>739</td>\n",
       "      <td>186</td>\n",
       "      <td>358</td>\n",
       "      <td>195</td>\n",
       "      <td>0</td>\n",
       "      <td>0</td>\n",
       "      <td>0</td>\n",
       "    </tr>\n",
       "    <tr>\n",
       "      <th>5</th>\n",
       "      <td>Innovation in general</td>\n",
       "      <td>767</td>\n",
       "      <td>534</td>\n",
       "      <td>236</td>\n",
       "      <td>0</td>\n",
       "      <td>0</td>\n",
       "      <td>0</td>\n",
       "      <td>0</td>\n",
       "    </tr>\n",
       "  </tbody>\n",
       "</table>\n",
       "</div>"
      ],
      "text/plain": [
       "                                          Components  Global  Round1  Round2  \\\n",
       "0                                          Lobbyists     196      63      10   \n",
       "1                         Industrial research alone      386     386       0   \n",
       "2  end-users of research and innovation outputs &...     579      76      78   \n",
       "3  education (higher education & vocational train...     608      56     162   \n",
       "4    research at the university (academic research)      739     186     358   \n",
       "5                             Innovation in general      767     534     236   \n",
       "\n",
       "   Round3  Round4  Round5  Round6  \n",
       "0      14      24      31      54  \n",
       "1       0       0       0       0  \n",
       "2     171     136     119       0  \n",
       "3     239     152       0       0  \n",
       "4     195       0       0       0  \n",
       "5       0       0       0       0  "
      ]
     },
     "execution_count": 3,
     "metadata": {},
     "output_type": "execute_result"
    }
   ],
   "source": [
    "df = pd.read_csv('Q1components.csv')\n",
    "df[['Components','Global','Round1','Round2','Round3','Round4','Round5','Round6']].describe()\n",
    "df.head(10)"
   ]
  },
  {
   "cell_type": "code",
   "execution_count": 4,
   "metadata": {},
   "outputs": [
    {
     "name": "stdout",
     "output_type": "stream",
     "text": [
      "0.4391880196459126\n",
      "accept null hypothesis\n"
     ]
    }
   ],
   "source": [
    "# measuring the influence between response 1 and 2\n",
    "ttest,pval = stats.ttest_rel(df['Round1'], df['Round2'])\n",
    "print(pval)\n",
    "if pval<0.05:\n",
    "    print(\"reject null hypothesis\")\n",
    "else:\n",
    "    print(\"accept null hypothesis\")"
   ]
  },
  {
   "cell_type": "code",
   "execution_count": 5,
   "metadata": {},
   "outputs": [
    {
     "name": "stdout",
     "output_type": "stream",
     "text": [
      "0.5204801480098704\n",
      "accept null hypothesis\n"
     ]
    }
   ],
   "source": [
    "# measuring the influence between response 2 and 3\n",
    "ttest,pval = stats.ttest_rel(df['Round2'], df['Round3'])\n",
    "print(pval)\n",
    "if pval<0.05:\n",
    "    print(\"reject null hypothesis\")\n",
    "else:\n",
    "    print(\"accept null hypothesis\")"
   ]
  },
  {
   "cell_type": "code",
   "execution_count": 6,
   "metadata": {},
   "outputs": [
    {
     "name": "stdout",
     "output_type": "stream",
     "text": [
      "0.17352262550757058\n",
      "accept null hypothesis\n"
     ]
    }
   ],
   "source": [
    "# measuring the influence between response 3 and 4\n",
    "ttest,pval = stats.ttest_rel(df['Round3'], df['Round4'])\n",
    "print(pval)\n",
    "if pval<0.05:\n",
    "    print(\"reject null hypothesis\")\n",
    "else:\n",
    "    print(\"accept null hypothesis\")"
   ]
  },
  {
   "cell_type": "code",
   "execution_count": 7,
   "metadata": {},
   "outputs": [
    {
     "name": "stdout",
     "output_type": "stream",
     "text": [
      "0.33313859608780555\n",
      "accept null hypothesis\n"
     ]
    }
   ],
   "source": [
    "# measuring the influence between response 4 and 5\n",
    "ttest,pval = stats.ttest_rel(df['Round4'], df['Round5'])\n",
    "print(pval)\n",
    "if pval<0.05:\n",
    "    print(\"reject null hypothesis\")\n",
    "else:\n",
    "    print(\"accept null hypothesis\")"
   ]
  },
  {
   "cell_type": "code",
   "execution_count": 8,
   "metadata": {},
   "outputs": [
    {
     "name": "stdout",
     "output_type": "stream",
     "text": [
      "0.4792925236077593\n",
      "accept null hypothesis\n"
     ]
    }
   ],
   "source": [
    "# measuring the influence between response 5 and 6\n",
    "ttest,pval = stats.ttest_rel(df['Round5'], df['Round6'])\n",
    "print(pval)\n",
    "if pval<0.05:\n",
    "    print(\"reject null hypothesis\")\n",
    "else:\n",
    "    print(\"accept null hypothesis\")"
   ]
  },
  {
   "cell_type": "code",
   "execution_count": 11,
   "metadata": {},
   "outputs": [
    {
     "data": {
      "image/png": "[encoded data removed]",
      "text/plain": [
       "<Figure size 432x288 with 1 Axes>"
      ]
     },
     "metadata": {
      "needs_background": "light"
     },
     "output_type": "display_data"
    }
   ],
   "source": [
    "import matplotlib.pyplot as plt \n",
    "  \n",
    "# x axis values \n",
    "y = [0.4391880196459126, 0.5204801480098704, \n",
    "0.17352262550757058, 0.33313859608780555, 0.4792925236077593] \n",
    "\n",
    "# corresponding y axis values \n",
    "x = [0.25,0.50,0.75,1,1.25] \n",
    "  \n",
    "# plotting the points  \n",
    "plt.plot(x, y, color='green', linestyle='dashed', linewidth = 3, \n",
    "         marker='o', markerfacecolor='red', markersize=12) \n",
    "  \n",
    "# naming the x axis \n",
    "plt.xlabel('Test Round') \n",
    "# naming the y axis \n",
    "plt.ylabel('Value') \n",
    "  \n",
    "# giving a title to my graph \n",
    "plt.title('Values by test') \n",
    "  \n",
    "# function to show the plot \n",
    "plt.show() "
   ]
  },
  {
   "cell_type": "code",
   "execution_count": 12,
   "metadata": {},
   "outputs": [
    {
     "name": "stdout",
     "output_type": "stream",
     "text": [
      "0.4440438246582946\n"
     ]
    }
   ],
   "source": [
    "# alternate testing - measuring the influence between response 1 and 2\n",
    "ztest ,pval1 = stests.ztest(df['Round1'], x2=df['Round2'], value=0,alternative='two-sided')\n",
    "print(float(pval1))"
   ]
  }
 ],
 "metadata": {
  "kernelspec": {
   "display_name": "Python 3",
   "language": "python",
   "name": "python3"
  },
  "language_info": {
   "codemirror_mode": {
    "name": "ipython",
    "version": 3
   },
   "file_extension": ".py",
   "mimetype": "text/x-python",
   "name": "python",
   "nbconvert_exporter": "python",
   "pygments_lexer": "ipython3",
   "version": "3.7.3"
  }
 },
 "nbformat": 4,
 "nbformat_minor": 2
}
