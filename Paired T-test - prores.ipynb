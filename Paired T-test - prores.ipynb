{
 "cells": [
  {
   "cell_type": "code",
   "execution_count": 143,
   "metadata": {},
   "outputs": [],
   "source": [
    "import pandas as pd\n",
    "import numpy as np \n",
    "from scipy import stats\n",
    "from scipy.stats import f\n",
    "from statsmodels.stats import weightstats as stests"
   ]
  },
  {
   "cell_type": "code",
   "execution_count": 144,
   "metadata": {
    "scrolled": false
   },
   "outputs": [
    {
     "data": {
      "text/html": [
       "<div>\n",
       "<style scoped>\n",
       "    .dataframe tbody tr th:only-of-type {\n",
       "        vertical-align: middle;\n",
       "    }\n",
       "\n",
       "    .dataframe tbody tr th {\n",
       "        vertical-align: top;\n",
       "    }\n",
       "\n",
       "    .dataframe thead th {\n",
       "        text-align: right;\n",
       "    }\n",
       "</style>\n",
       "<table border=\"1\" class=\"dataframe\">\n",
       "  <thead>\n",
       "    <tr style=\"text-align: right;\">\n",
       "      <th></th>\n",
       "      <th>Answer_Code</th>\n",
       "      <th>Round1</th>\n",
       "      <th>Round2</th>\n",
       "      <th>Round3</th>\n",
       "      <th>Round4</th>\n",
       "      <th>Round5</th>\n",
       "      <th>Round6</th>\n",
       "      <th>Round7</th>\n",
       "      <th>Round8</th>\n",
       "    </tr>\n",
       "  </thead>\n",
       "  <tbody>\n",
       "    <tr>\n",
       "      <th>0</th>\n",
       "      <td>11</td>\n",
       "      <td>243</td>\n",
       "      <td>0</td>\n",
       "      <td>0</td>\n",
       "      <td>0</td>\n",
       "      <td>0</td>\n",
       "      <td>0</td>\n",
       "      <td>0</td>\n",
       "      <td>0</td>\n",
       "    </tr>\n",
       "    <tr>\n",
       "      <th>1</th>\n",
       "      <td>12</td>\n",
       "      <td>156</td>\n",
       "      <td>92</td>\n",
       "      <td>0</td>\n",
       "      <td>0</td>\n",
       "      <td>0</td>\n",
       "      <td>0</td>\n",
       "      <td>0</td>\n",
       "      <td>0</td>\n",
       "    </tr>\n",
       "    <tr>\n",
       "      <th>2</th>\n",
       "      <td>13</td>\n",
       "      <td>108</td>\n",
       "      <td>67</td>\n",
       "      <td>54</td>\n",
       "      <td>0</td>\n",
       "      <td>0</td>\n",
       "      <td>0</td>\n",
       "      <td>0</td>\n",
       "      <td>0</td>\n",
       "    </tr>\n",
       "    <tr>\n",
       "      <th>3</th>\n",
       "      <td>14</td>\n",
       "      <td>283</td>\n",
       "      <td>97</td>\n",
       "      <td>35</td>\n",
       "      <td>40</td>\n",
       "      <td>0</td>\n",
       "      <td>0</td>\n",
       "      <td>0</td>\n",
       "      <td>0</td>\n",
       "    </tr>\n",
       "    <tr>\n",
       "      <th>4</th>\n",
       "      <td>15</td>\n",
       "      <td>166</td>\n",
       "      <td>175</td>\n",
       "      <td>52</td>\n",
       "      <td>24</td>\n",
       "      <td>33</td>\n",
       "      <td>0</td>\n",
       "      <td>0</td>\n",
       "      <td>0</td>\n",
       "    </tr>\n",
       "    <tr>\n",
       "      <th>5</th>\n",
       "      <td>16</td>\n",
       "      <td>201</td>\n",
       "      <td>263</td>\n",
       "      <td>153</td>\n",
       "      <td>46</td>\n",
       "      <td>16</td>\n",
       "      <td>33</td>\n",
       "      <td>14</td>\n",
       "      <td>0</td>\n",
       "    </tr>\n",
       "    <tr>\n",
       "      <th>6</th>\n",
       "      <td>17</td>\n",
       "      <td>16</td>\n",
       "      <td>70</td>\n",
       "      <td>62</td>\n",
       "      <td>55</td>\n",
       "      <td>14</td>\n",
       "      <td>5</td>\n",
       "      <td>15</td>\n",
       "      <td>0</td>\n",
       "    </tr>\n",
       "    <tr>\n",
       "      <th>7</th>\n",
       "      <td>18</td>\n",
       "      <td>128</td>\n",
       "      <td>87</td>\n",
       "      <td>116</td>\n",
       "      <td>49</td>\n",
       "      <td>34</td>\n",
       "      <td>9</td>\n",
       "      <td>6</td>\n",
       "      <td>23</td>\n",
       "    </tr>\n",
       "  </tbody>\n",
       "</table>\n",
       "</div>"
      ],
      "text/plain": [
       "   Answer_Code  Round1  Round2  Round3  Round4  Round5  Round6  Round7  Round8\n",
       "0           11     243       0       0       0       0       0       0       0\n",
       "1           12     156      92       0       0       0       0       0       0\n",
       "2           13     108      67      54       0       0       0       0       0\n",
       "3           14     283      97      35      40       0       0       0       0\n",
       "4           15     166     175      52      24      33       0       0       0\n",
       "5           16     201     263     153      46      16      33      14       0\n",
       "6           17      16      70      62      55      14       5      15       0\n",
       "7           18     128      87     116      49      34       9       6      23"
      ]
     },
     "execution_count": 144,
     "metadata": {},
     "output_type": "execute_result"
    }
   ],
   "source": [
    "df = pd.read_csv('AnaQ5_final.csv')\n",
    "df[['Round1','Round2','Round3','Round4','Round5','Round6','Round7','Round8']].describe()\n",
    "df.head(10)"
   ]
  },
  {
   "cell_type": "code",
   "execution_count": 145,
   "metadata": {},
   "outputs": [
    {
     "name": "stdout",
     "output_type": "stream",
     "text": [
      "0.18651262389257783\n",
      "accept null hypothesis\n"
     ]
    }
   ],
   "source": [
    "# measuring the influence between response 1 and 2\n",
    "ttest,pval = stats.ttest_rel(df['Round1'], df['Round2'])\n",
    "print(pval)\n",
    "if pval<0.05:\n",
    "    print(\"reject null hypothesis\")\n",
    "else:\n",
    "    print(\"accept null hypothesis\")"
   ]
  },
  {
   "cell_type": "code",
   "execution_count": 146,
   "metadata": {},
   "outputs": [
    {
     "name": "stdout",
     "output_type": "stream",
     "text": [
      "0.05068794136841429\n",
      "accept null hypothesis\n"
     ]
    }
   ],
   "source": [
    "# measuring the influence between response 2 and 3\n",
    "ttest,pval = stats.ttest_rel(df['Round2'], df['Round3'])\n",
    "print(pval)\n",
    "if pval<0.05:\n",
    "    print(\"reject null hypothesis\")\n",
    "else:\n",
    "    print(\"accept null hypothesis\")"
   ]
  },
  {
   "cell_type": "code",
   "execution_count": 147,
   "metadata": {},
   "outputs": [
    {
     "name": "stdout",
     "output_type": "stream",
     "text": [
      "0.058230789245405486\n",
      "accept null hypothesis\n"
     ]
    }
   ],
   "source": [
    "# measuring the influence between response 3 and 4\n",
    "ttest,pval = stats.ttest_rel(df['Round3'], df['Round4'])\n",
    "print(pval)\n",
    "if pval<0.05:\n",
    "    print(\"reject null hypothesis\")\n",
    "else:\n",
    "    print(\"accept null hypothesis\")"
   ]
  },
  {
   "cell_type": "code",
   "execution_count": 148,
   "metadata": {},
   "outputs": [
    {
     "name": "stdout",
     "output_type": "stream",
     "text": [
      "0.07639404722480478\n",
      "accept null hypothesis\n"
     ]
    }
   ],
   "source": [
    "# measuring the influence between response 4 and 5\n",
    "ttest,pval = stats.ttest_rel(df['Round4'], df['Round5'])\n",
    "print(pval)\n",
    "if pval<0.05:\n",
    "    print(\"reject null hypothesis\")\n",
    "else:\n",
    "    print(\"accept null hypothesis\")"
   ]
  },
  {
   "cell_type": "code",
   "execution_count": 149,
   "metadata": {},
   "outputs": [
    {
     "name": "stdout",
     "output_type": "stream",
     "text": [
      "0.30317460923496636\n",
      "accept null hypothesis\n"
     ]
    }
   ],
   "source": [
    "# measuring the influence between response 5 and 6\n",
    "ttest,pval = stats.ttest_rel(df['Round5'], df['Round6'])\n",
    "print(pval)\n",
    "if pval<0.05:\n",
    "    print(\"reject null hypothesis\")\n",
    "else:\n",
    "    print(\"accept null hypothesis\")"
   ]
  },
  {
   "cell_type": "code",
   "execution_count": 150,
   "metadata": {},
   "outputs": [
    {
     "name": "stdout",
     "output_type": "stream",
     "text": [
      "0.613831796614976\n",
      "accept null hypothesis\n"
     ]
    }
   ],
   "source": [
    "# measuring the influence between response 6 and 7\n",
    "ttest,pval = stats.ttest_rel(df['Round6'], df['Round7'])\n",
    "print(pval)\n",
    "if pval<0.05:\n",
    "    print(\"reject null hypothesis\")\n",
    "else:\n",
    "    print(\"accept null hypothesis\")"
   ]
  },
  {
   "cell_type": "code",
   "execution_count": 151,
   "metadata": {},
   "outputs": [
    {
     "name": "stdout",
     "output_type": "stream",
     "text": [
      "0.6824075035175572\n",
      "accept null hypothesis\n"
     ]
    }
   ],
   "source": [
    "# measuring the influence between response 7 and 8\n",
    "ttest,pval = stats.ttest_rel(df['Round7'], df['Round8'])\n",
    "print(pval)\n",
    "if pval<0.05:\n",
    "    print(\"reject null hypothesis\")\n",
    "else:\n",
    "    print(\"accept null hypothesis\")"
   ]
  },
  {
   "cell_type": "code",
   "execution_count": 152,
   "metadata": {},
   "outputs": [
    {
     "data": {
      "image/png": "[encoded data removed]",
      "text/plain": [
       "<Figure size 432x288 with 1 Axes>"
      ]
     },
     "metadata": {
      "needs_background": "light"
     },
     "output_type": "display_data"
    }
   ],
   "source": [
    "import matplotlib.pyplot as plt \n",
    "  \n",
    "# x axis values \n",
    "y = [0.18651262389257783, 0.18651262389257783, \n",
    "0.05068794136841429, 0.058230789245405486, 0.07639404722480478, 0.30317460923496636, \n",
    "0.613831796614976, 0.6824075035175572] \n",
    "# corresponding y axis values \n",
    "x = [0.25,0.50,0.75,1,1.25,1.50,1.75,2] \n",
    "  \n",
    "# plotting the points  \n",
    "plt.plot(x, y, color='green', linestyle='dashed', linewidth = 3, \n",
    "         marker='o', markerfacecolor='red', markersize=12) \n",
    "  \n",
    "# naming the x axis \n",
    "plt.xlabel('Test Round') \n",
    "# naming the y axis \n",
    "plt.ylabel('Value') \n",
    "  \n",
    "# giving a title to my graph \n",
    "plt.title('Values by test') \n",
    "  \n",
    "# function to show the plot \n",
    "plt.show() "
   ]
  },
  {
   "cell_type": "code",
   "execution_count": 153,
   "metadata": {},
   "outputs": [
    {
     "name": "stdout",
     "output_type": "stream",
     "text": [
      "0.16579838578697648\n"
     ]
    }
   ],
   "source": [
    "# alternate testing - measuring the influence between response 1 and 2\n",
    "ztest ,pval1 = stests.ztest(df['Round1'], x2=df['Round2'], value=0,alternative='two-sided')\n",
    "print(float(pval1))"
   ]
  },
  {
   "cell_type": "code",
   "execution_count": 154,
   "metadata": {},
   "outputs": [
    {
     "name": "stdout",
     "output_type": "stream",
     "text": [
      "Between groups (effect):\t SS_bg = 200688.2500, \t df_bg =   8, \t ms_bg = 25086.0312\n",
      "  Within groups (error):\t SS_wg = 119207.7500, \t df_wg =  63, \t ms_wg = 1892.1865\n",
      "                  TOTAL:\t  SS_t = 319896.0000, \t  df_t =  71\n",
      "F =  13.2577, p =   0.0000\n"
     ]
    }
   ],
   "source": [
    "# measuring the influence between responses all groups\n",
    "def ssd(ser):       \n",
    "    s1 = pow(ser,2).sum()\n",
    "    s2 = pow(ser.sum(),2) / ser.size\n",
    "    return s1-s2\n",
    "\n",
    "def dftoser(df):  \n",
    "    ser = pd.Series()\n",
    "    for i in range(len(df.columns)):\n",
    "        ser = ser.append(df.iloc[:,i])\n",
    "    return ser\n",
    "\n",
    "def pro_anova1(inframe):                  \n",
    "    k = len(inframe.columns)\n",
    "    \n",
    "    allser = dftoser(inframe)\n",
    "    n_t = allser.size\n",
    "    \n",
    "    df_t = n_t - 1\n",
    "    df_bg = k - 1\n",
    "    df_wg = n_t - k\n",
    "    \n",
    "    ss_t = ssd(allser)\n",
    "\n",
    "    ss_wg = 0\n",
    "    for i in range(k):\n",
    "        ss_wg += ssd(inframe.iloc[:,i])\n",
    "    \n",
    "\n",
    "    ss_bg = ss_t - ss_wg\n",
    "    \n",
    "   \n",
    "    ms_wg = ss_wg / df_wg\n",
    "    \n",
    " \n",
    "    ms_bg = ss_bg / df_bg\n",
    "    \n",
    "   \n",
    "    F = ms_bg / ms_wg \n",
    "    p = f.sf(F, df_bg, df_wg, loc=0, scale=1)\n",
    "    \n",
    "    print('Between groups (effect):\\t SS_bg = {:8.4f}, \\t df_bg = {:3d}, \\t ms_bg = {:8.4f}'.format(ss_bg, df_bg, ms_bg))\n",
    "    print('  Within groups (error):\\t SS_wg = {:8.4f}, \\t df_wg = {:3d}, \\t ms_wg = {:8.4f}'.format(ss_wg, df_wg, ms_wg))\n",
    "    print('                  TOTAL:\\t  SS_t = {:8.4f}, \\t  df_t = {:3d}'.format(ss_t, df_t))\n",
    "    print('F = {:8.4f}, p = {:8.4f}'.format(F, p))        \n",
    "    \n",
    "    return F, p\n",
    "\n",
    "testdata = pd.read_csv('AnaQ5_final.csv')\n",
    "\n",
    "F, p = pro_anova1(pd.DataFrame(testdata))"
   ]
  },
  {
   "cell_type": "code",
   "execution_count": 155,
   "metadata": {},
   "outputs": [],
   "source": [
    "df_chi = pd.read_csv('AnaQ5_final.csv')"
   ]
  },
  {
   "cell_type": "code",
   "execution_count": 156,
   "metadata": {},
   "outputs": [
    {
     "name": "stdout",
     "output_type": "stream",
     "text": [
      "Observed Values :-\n",
      " [[0 0 1 0 0 0 0 0]\n",
      " [0 1 0 0 0 0 0 0]\n",
      " [0 0 0 1 0 0 0 0]\n",
      " [0 0 0 0 1 0 0 0]\n",
      " [0 0 0 0 0 0 1 0]\n",
      " [0 0 0 0 0 0 0 1]\n",
      " [1 0 0 0 0 0 0 0]\n",
      " [0 0 0 0 0 1 0 0]]\n"
     ]
    }
   ],
   "source": [
    "#Observed Values\n",
    "Observed_Values = contingency_table.values \n",
    "print(\"Observed Values :-\\n\",Observed_Values)"
   ]
  },
  {
   "cell_type": "code",
   "execution_count": 157,
   "metadata": {},
   "outputs": [
    {
     "name": "stdout",
     "output_type": "stream",
     "text": [
      "Expected Values :-\n",
      " [[0.125 0.125 0.125 0.125 0.125 0.125 0.125 0.125]\n",
      " [0.125 0.125 0.125 0.125 0.125 0.125 0.125 0.125]\n",
      " [0.125 0.125 0.125 0.125 0.125 0.125 0.125 0.125]\n",
      " [0.125 0.125 0.125 0.125 0.125 0.125 0.125 0.125]\n",
      " [0.125 0.125 0.125 0.125 0.125 0.125 0.125 0.125]\n",
      " [0.125 0.125 0.125 0.125 0.125 0.125 0.125 0.125]\n",
      " [0.125 0.125 0.125 0.125 0.125 0.125 0.125 0.125]\n",
      " [0.125 0.125 0.125 0.125 0.125 0.125 0.125 0.125]]\n"
     ]
    }
   ],
   "source": [
    "b=stats.chi2_contingency(contingency_table)\n",
    "Expected_Values = b[3]\n",
    "print(\"Expected Values :-\\n\",Expected_Values)"
   ]
  },
  {
   "cell_type": "code",
   "execution_count": 158,
   "metadata": {},
   "outputs": [
    {
     "name": "stdout",
     "output_type": "stream",
     "text": [
      "Degree of Freedom:-    Answer_Code  Round1  Round2  Round3  Round4  Round5  Round6  Round7  Round8\n",
      "0           11     243       0       0       0       0       0       0       0\n",
      "1           12     156      92       0       0       0       0       0       0\n",
      "2           13     108      67      54       0       0       0       0       0\n",
      "3           14     283      97      35      40       0       0       0       0\n",
      "4           15     166     175      52      24      33       0       0       0\n",
      "5           16     201     263     153      46      16      33      14       0\n",
      "6           17      16      70      62      55      14       5      15       0\n",
      "7           18     128      87     116      49      34       9       6      23\n"
     ]
    }
   ],
   "source": [
    "no_of_rows=len(contingency_table.iloc[0:2,0])\n",
    "no_of_columns=len(contingency_table.iloc[0,0:2])\n",
    "df11=(no_of_rows-1)*(no_of_columns-1)\n",
    "print(\"Degree of Freedom:-\",df)\n",
    "alpha = 0.05"
   ]
  },
  {
   "cell_type": "code",
   "execution_count": 159,
   "metadata": {},
   "outputs": [
    {
     "name": "stdout",
     "output_type": "stream",
     "text": [
      "chi-square statistic:- 14.0\n"
     ]
    }
   ],
   "source": [
    "\n",
    "from scipy.stats import chi2\n",
    "chi_square=sum([(o-e)**2./e for o,e in zip(Observed_Values,Expected_Values)])\n",
    "chi_square_statistic=chi_square[0]+chi_square[1]\n",
    "print(\"chi-square statistic:-\",chi_square_statistic)"
   ]
  },
  {
   "cell_type": "code",
   "execution_count": 160,
   "metadata": {},
   "outputs": [
    {
     "name": "stdout",
     "output_type": "stream",
     "text": [
      "critical_value: 3.841458820694124\n"
     ]
    }
   ],
   "source": [
    "critical_value=chi2.ppf(q=1-alpha,df=df11)\n",
    "print('critical_value:',critical_value)"
   ]
  },
  {
   "cell_type": "code",
   "execution_count": 161,
   "metadata": {},
   "outputs": [
    {
     "name": "stdout",
     "output_type": "stream",
     "text": [
      "p-value: 0.00018281063298186684\n"
     ]
    }
   ],
   "source": [
    "#p-value\n",
    "p_value=1-chi2.cdf(x=chi_square_statistic,df=df11)\n",
    "print('p-value:',p_value)"
   ]
  },
  {
   "cell_type": "code",
   "execution_count": 162,
   "metadata": {},
   "outputs": [
    {
     "name": "stdout",
     "output_type": "stream",
     "text": [
      "Significance level:  0.05\n",
      "Degree of Freedom:  1\n",
      "chi-square statistic: 14.0\n",
      "critical_value: 3.841458820694124\n",
      "p-value: 0.00018281063298186684\n"
     ]
    }
   ],
   "source": [
    "print('Significance level: ',alpha)\n",
    "print('Degree of Freedom: ',df11)\n",
    "print('chi-square statistic:',chi_square_statistic)\n",
    "print('critical_value:',critical_value)\n",
    "print('p-value:',p_value)"
   ]
  },
  {
   "cell_type": "code",
   "execution_count": 163,
   "metadata": {},
   "outputs": [
    {
     "name": "stdout",
     "output_type": "stream",
     "text": [
      "Reject H0,There is a relationship between 2 categorical variables\n",
      "Reject H0,There is a relationship between 2 categorical variables\n"
     ]
    }
   ],
   "source": [
    "if chi_square_statistic>=critical_value:\n",
    "    print(\"Reject H0,There is a relationship between 2 categorical variables\")\n",
    "else:\n",
    "    print(\"Retain H0,There is no relationship between 2 categorical variables\")\n",
    "    \n",
    "if p_value<=alpha:\n",
    "    print(\"Reject H0,There is a relationship between 2 categorical variables\")\n",
    "else:\n",
    "    print(\"Retain H0,There is no relationship between 2 categorical variables\")"
   ]
  }
 ],
 "metadata": {
  "kernelspec": {
   "display_name": "Python 3",
   "language": "python",
   "name": "python3"
  },
  "language_info": {
   "codemirror_mode": {
    "name": "ipython",
    "version": 3
   },
   "file_extension": ".py",
   "mimetype": "text/x-python",
   "name": "python",
   "nbconvert_exporter": "python",
   "pygments_lexer": "ipython3",
   "version": "3.7.3"
  }
 },
 "nbformat": 4,
 "nbformat_minor": 2
}
