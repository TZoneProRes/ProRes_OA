{
 "cells": [
  {
   "cell_type": "code",
   "execution_count": 3,
   "metadata": {},
   "outputs": [],
   "source": [
    "import pandas as pd\n",
    "import numpy as np \n",
    "from scipy import stats\n",
    "from scipy.stats import f\n",
    "from statsmodels.stats import weightstats as stests\n",
    "import matplotlib.pyplot as plt\n",
    "import xlrd as xl \n",
    "from pandas import ExcelWriter\n",
    "from pandas import ExcelFile \n",
    "import math\n",
    "import scipy.stats"
   ]
  },
  {
   "cell_type": "code",
   "execution_count": 4,
   "metadata": {
    "scrolled": true
   },
   "outputs": [
    {
     "name": "stdout",
     "output_type": "stream",
     "text": [
      "           IP address  Q2\n",
      "0          82.66.93.1   6\n",
      "1          82.66.93.1   6\n",
      "2      179.43.184.106   4\n",
      "3      179.43.184.106   2\n",
      "4      179.43.184.106   7\n",
      "5      179.43.184.106   2\n",
      "6      179.43.184.106   1\n",
      "7      179.43.184.106   9\n",
      "8      179.43.184.106   9\n",
      "9      179.43.184.106   0\n",
      "10     87.214.203.245   5\n",
      "11      83.52.149.253   8\n",
      "12       82.43.216.71   7\n",
      "13       2.85.196.239   7\n",
      "14      77.96.231.202   9\n",
      "15       92.0.122.188   8\n",
      "16      176.58.195.89   6\n",
      "17       90.255.204.3   0\n",
      "18       151.0.95.132   7\n",
      "19     90.202.106.104   7\n",
      "20    108.171.128.173   4\n",
      "21       2.87.252.245   8\n",
      "22      193.136.53.11   5\n",
      "23      83.240.61.206   7\n",
      "24       82.68.224.22   0\n",
      "25        82.27.98.74   6\n",
      "26       86.8.206.213   4\n",
      "27     90.218.158.207   6\n",
      "28     82.159.112.163   7\n",
      "29    213.205.240.214   6\n",
      "...               ...  ..\n",
      "1449   81.104.160.205   6\n",
      "1450    2.223.108.230   6\n",
      "1451    188.220.40.67   8\n",
      "1452    90.220.216.59   7\n",
      "1453     82.69.140.30   7\n",
      "1454   85.253.195.243   9\n",
      "1455   81.107.233.183   8\n",
      "1456     82.46.172.96   6\n",
      "1457   188.80.199.211   6\n",
      "1458   87.115.227.160   8\n",
      "1459    95.95.217.243   8\n",
      "1460   176.25.233.209   8\n",
      "1461   90.249.177.198   8\n",
      "1462    92.40.249.227  10\n",
      "1463    188.76.19.162   8\n",
      "1464     45.56.150.37   6\n",
      "1465     92.30.118.35   6\n",
      "1466    213.30.78.169   8\n",
      "1467     2.99.178.251   8\n",
      "1468     37.76.63.184   8\n",
      "1469   212.235.20.117   4\n",
      "1470    31.50.191.158   5\n",
      "1471  213.249.238.248   8\n",
      "1472   90.253.192.170   9\n",
      "1473      94.15.122.8   4\n",
      "1474    195.147.95.18   0\n",
      "1475       5.65.75.42   5\n",
      "1476      2.84.12.112   9\n",
      "1477   86.188.113.152   6\n",
      "1478   86.171.193.157   7\n",
      "\n",
      "[1479 rows x 2 columns]\n"
     ]
    }
   ],
   "source": [
    "df=pd.read_excel(\"ProRes_dataprepped_final2_2.xlsx\",sheet_name='TrustKIQ2')\n",
    "df.describe()\n",
    "df.head(10)\n",
    "print(df)"
   ]
  },
  {
   "cell_type": "code",
   "execution_count": 5,
   "metadata": {},
   "outputs": [
    {
     "data": {
      "text/plain": [
       "count    1479.000000\n",
       "mean        5.740365\n",
       "std         2.842065\n",
       "min         0.000000\n",
       "25%         5.000000\n",
       "50%         6.000000\n",
       "75%         8.000000\n",
       "max        10.000000\n",
       "Name: Q2, dtype: float64"
      ]
     },
     "execution_count": 5,
     "metadata": {},
     "output_type": "execute_result"
    }
   ],
   "source": [
    "df.Q2.describe()"
   ]
  },
  {
   "cell_type": "code",
   "execution_count": 6,
   "metadata": {},
   "outputs": [
    {
     "data": {
      "text/plain": [
       "7     289\n",
       "8     264\n",
       "6     223\n",
       "5     206\n",
       "0     178\n",
       "9     101\n",
       "10     71\n",
       "1      53\n",
       "4      47\n",
       "3      33\n",
       "2      14\n",
       "Name: Q2, dtype: int64"
      ]
     },
     "execution_count": 6,
     "metadata": {},
     "output_type": "execute_result"
    }
   ],
   "source": [
    "df['Q2'].value_counts()"
   ]
  },
  {
   "cell_type": "code",
   "execution_count": 7,
   "metadata": {},
   "outputs": [
    {
     "data": {
      "image/png": "[encoded data removed]",
      "text/plain": [
       "<Figure size 432x288 with 1 Axes>"
      ]
     },
     "metadata": {
      "needs_background": "light"
     },
     "output_type": "display_data"
    }
   ],
   "source": [
    "x_min = 0.0\n",
    "x_max = 10.0\n",
    "\n",
    "mean = 5.740365 \n",
    "std = 2.842065\n",
    "\n",
    "x = np.linspace(x_min, x_max, 100)\n",
    "\n",
    "y = scipy.stats.norm.pdf(x,mean,std)\n",
    "\n",
    "plt.plot(x,y, color='black')\n",
    "\n",
    "#----------------------------------------------------------------------------------------#\n",
    "# fill area 1\n",
    "\n",
    "pt1 = mean + std\n",
    "plt.plot([pt1 ,pt1 ],[0.0,scipy.stats.norm.pdf(pt1 ,mean, std)], color='black')\n",
    "\n",
    "pt2 = mean - std\n",
    "plt.plot([pt2 ,pt2 ],[0.0,scipy.stats.norm.pdf(pt2 ,mean, std)], color='black')\n",
    "\n",
    "ptx = np.linspace(pt1, pt2, 10)\n",
    "pty = scipy.stats.norm.pdf(ptx,mean,std)\n",
    "\n",
    "plt.fill_between(ptx, pty, color='#0b559f', alpha='1.0')\n",
    "\n",
    "#----------------------------------------------------------------------------------------#\n",
    "# fill area 2\n",
    "\n",
    "pt1 = mean + std\n",
    "plt.plot([pt1 ,pt1 ],[0.0,scipy.stats.norm.pdf(pt1 ,mean, std)], color='black')\n",
    "\n",
    "pt2 = mean + 2.0 * std\n",
    "plt.plot([pt2 ,pt2 ],[0.0,scipy.stats.norm.pdf(pt2 ,mean, std)], color='black')\n",
    "\n",
    "ptx = np.linspace(pt1, pt2, 10)\n",
    "pty = scipy.stats.norm.pdf(ptx,mean,std)\n",
    "\n",
    "plt.fill_between(ptx, pty, color='#2b7bba', alpha='1.0')\n",
    "\n",
    "#----------------------------------------------------------------------------------------#\n",
    "# fill area 3\n",
    "\n",
    "pt1 = mean - std\n",
    "plt.plot([pt1 ,pt1 ],[0.0,scipy.stats.norm.pdf(pt1 ,mean, std)], color='black')\n",
    "\n",
    "pt2 = mean - 2.0 * std\n",
    "plt.plot([pt2 ,pt2 ],[0.0,scipy.stats.norm.pdf(pt2 ,mean, std)], color='black')\n",
    "\n",
    "ptx = np.linspace(pt1, pt2, 10)\n",
    "pty = scipy.stats.norm.pdf(ptx,mean,std)\n",
    "\n",
    "plt.fill_between(ptx, pty, color='#2b7bba', alpha='1.0')\n",
    "\n",
    "#----------------------------------------------------------------------------------------#\n",
    "# fill area 4\n",
    "\n",
    "pt1 = mean + 2.0 * std\n",
    "plt.plot([pt1 ,pt1 ],[0.0,scipy.stats.norm.pdf(pt1 ,mean, std)], color='black')\n",
    "\n",
    "pt2 = mean + 3.0 * std\n",
    "plt.plot([pt2 ,pt2 ],[0.0,scipy.stats.norm.pdf(pt2 ,mean, std)], color='black')\n",
    "\n",
    "ptx = np.linspace(pt1, pt2, 10)\n",
    "pty = scipy.stats.norm.pdf(ptx,mean,std)\n",
    "\n",
    "plt.fill_between(ptx, pty, color='#539ecd', alpha='1.0')\n",
    "\n",
    "#----------------------------------------------------------------------------------------#\n",
    "# fill area 5\n",
    "\n",
    "pt1 = mean - 2.0 * std\n",
    "plt.plot([pt1 ,pt1 ],[0.0,scipy.stats.norm.pdf(pt1 ,mean, std)], color='black')\n",
    "\n",
    "pt2 = mean - 3.0 * std\n",
    "plt.plot([pt2 ,pt2 ],[0.0,scipy.stats.norm.pdf(pt2 ,mean, std)], color='black')\n",
    "\n",
    "ptx = np.linspace(pt1, pt2, 10)\n",
    "pty = scipy.stats.norm.pdf(ptx,mean,std)\n",
    "\n",
    "plt.fill_between(ptx, pty, color='#539ecd', alpha='1.0')\n",
    "\n",
    "#----------------------------------------------------------------------------------------#\n",
    "# fill area 6\n",
    "\n",
    "pt1 = mean + 3.0 * std\n",
    "plt.plot([pt1 ,pt1 ],[0.0,scipy.stats.norm.pdf(pt1 ,mean, std)], color='black')\n",
    "\n",
    "pt2 = mean + 10.0 *std\n",
    "plt.plot([pt2 ,pt2 ],[0.0,scipy.stats.norm.pdf(pt2 ,mean, std)], color='black')\n",
    "\n",
    "ptx = np.linspace(pt1, pt2, 10)\n",
    "pty = scipy.stats.norm.pdf(ptx,mean,std)\n",
    "\n",
    "plt.fill_between(ptx, pty, color='#89bedc', alpha='1.0')\n",
    "\n",
    "#----------------------------------------------------------------------------------------#\n",
    "# fill area 7\n",
    "\n",
    "pt1 = mean - 3.0 * std\n",
    "plt.plot([pt1 ,pt1 ],[0.0,scipy.stats.norm.pdf(pt1 ,mean, std)], color='black')\n",
    "\n",
    "pt2 = mean - 10.0 * std\n",
    "plt.plot([pt2 ,pt2 ],[0.0,scipy.stats.norm.pdf(pt2 ,mean, std)], color='black')\n",
    "\n",
    "ptx = np.linspace(pt1, pt2, 10)\n",
    "pty = scipy.stats.norm.pdf(ptx,mean,std)\n",
    "\n",
    "plt.fill_between(ptx, pty, color='#89bedc', alpha='1.0')\n",
    "\n",
    "#----------------------------------------------------------------------------------------#\n",
    "\n",
    "plt.grid()\n",
    "\n",
    "plt.xlim(x_min,x_max)\n",
    "plt.ylim(0,0.25)\n",
    "\n",
    "plt.title('Q2 Distribution and analysis',fontsize=10)\n",
    "\n",
    "plt.xlabel('x')\n",
    "plt.ylabel('Normal Distribution')\n",
    "\n",
    "plt.savefig(\"normal_distribution_2.png\")\n",
    "plt.show()"
   ]
  },
  {
   "cell_type": "code",
   "execution_count": 8,
   "metadata": {},
   "outputs": [
    {
     "data": {
      "image/png": "[encoded data removed]",
      "text/plain": [
       "<Figure size 432x288 with 1 Axes>"
      ]
     },
     "metadata": {
      "needs_background": "light"
     },
     "output_type": "display_data"
    }
   ],
   "source": [
    "mu = 5.740365\n",
    "variance = 2.842065\n",
    "sigma = math.sqrt(variance)\n",
    "x = np.linspace(mu - 3*sigma, mu + 3*sigma, 100)\n",
    "plt.plot(x, stats.norm.pdf(x, mu, sigma))\n",
    "plt.show()"
   ]
  },
  {
   "cell_type": "code",
   "execution_count": 9,
   "metadata": {},
   "outputs": [
    {
     "data": {
      "image/png": "[encoded data removed]",
      "text/plain": [
       "<Figure size 432x288 with 1 Axes>"
      ]
     },
     "metadata": {
      "needs_background": "light"
     },
     "output_type": "display_data"
    }
   ],
   "source": [
    "dfcount = df['Q2'].value_counts()\n",
    "dfcount.plot(kind='bar')\n",
    "plt.xlabel(\"Score\") \n",
    "plt.ylabel(\"No. of respondents\") \n",
    "plt.title(\"Responses per score\") \n",
    "plt.show() \n"
   ]
  },
  {
   "cell_type": "code",
   "execution_count": 10,
   "metadata": {},
   "outputs": [
    {
     "name": "stdout",
     "output_type": "stream",
     "text": [
      "           IP address  Trust_players\n",
      "0          82.66.93.1              5\n",
      "1          82.66.93.1              0\n",
      "2      179.43.184.106              0\n",
      "3      179.43.184.106              0\n",
      "4      179.43.184.106              0\n",
      "5      179.43.184.106              0\n",
      "6      179.43.184.106              0\n",
      "7      179.43.184.106              0\n",
      "8      179.43.184.106              0\n",
      "9      179.43.184.106              0\n",
      "10     87.214.203.245              0\n",
      "11      83.52.149.253              8\n",
      "12       82.43.216.71              6\n",
      "13       2.85.196.239              8\n",
      "14      77.96.231.202              7\n",
      "15       92.0.122.188              8\n",
      "16      176.58.195.89              5\n",
      "17       90.255.204.3              0\n",
      "18       151.0.95.132              6\n",
      "19     90.202.106.104              8\n",
      "20    108.171.128.173              4\n",
      "21       2.87.252.245              6\n",
      "22      193.136.53.11              6\n",
      "23      83.240.61.206              7\n",
      "24       82.68.224.22              0\n",
      "25        82.27.98.74              6\n",
      "26       86.8.206.213              5\n",
      "27     90.218.158.207              7\n",
      "28     82.159.112.163              5\n",
      "29    213.205.240.214              6\n",
      "...               ...            ...\n",
      "1449   81.104.160.205              7\n",
      "1450    2.223.108.230              6\n",
      "1451    188.220.40.67              7\n",
      "1452    90.220.216.59              6\n",
      "1453     82.69.140.30              7\n",
      "1454   85.253.195.243              8\n",
      "1455   81.107.233.183              7\n",
      "1456     82.46.172.96              6\n",
      "1457   188.80.199.211              3\n",
      "1458   87.115.227.160              7\n",
      "1459    95.95.217.243              8\n",
      "1460   176.25.233.209              6\n",
      "1461   90.249.177.198              5\n",
      "1462    92.40.249.227             10\n",
      "1463    188.76.19.162              7\n",
      "1464     45.56.150.37              6\n",
      "1465     92.30.118.35              5\n",
      "1466    213.30.78.169              7\n",
      "1467     2.99.178.251              6\n",
      "1468     37.76.63.184              8\n",
      "1469   212.235.20.117              3\n",
      "1470    31.50.191.158              5\n",
      "1471  213.249.238.248              8\n",
      "1472   90.253.192.170              8\n",
      "1473      94.15.122.8              4\n",
      "1474    195.147.95.18              0\n",
      "1475       5.65.75.42              5\n",
      "1476      2.84.12.112              8\n",
      "1477   86.188.113.152              6\n",
      "1478   86.171.193.157              8\n",
      "\n",
      "[1479 rows x 2 columns]\n"
     ]
    }
   ],
   "source": [
    "df_players=pd.read_excel(\"ProRes_dataprepped_final2_2.xlsx\",sheet_name='TrustPlayersKIQ3')\n",
    "df_players.describe()\n",
    "df_players.head(10)\n",
    "print(df_players)"
   ]
  },
  {
   "cell_type": "code",
   "execution_count": 11,
   "metadata": {},
   "outputs": [
    {
     "data": {
      "text/plain": [
       "count    1479.000000\n",
       "mean        3.690331\n",
       "std         3.380091\n",
       "min         0.000000\n",
       "25%         0.000000\n",
       "50%         5.000000\n",
       "75%         7.000000\n",
       "max        10.000000\n",
       "Name: Trust_players, dtype: float64"
      ]
     },
     "execution_count": 11,
     "metadata": {},
     "output_type": "execute_result"
    }
   ],
   "source": [
    "df_players.Trust_players.describe()"
   ]
  },
  {
   "cell_type": "code",
   "execution_count": 12,
   "metadata": {},
   "outputs": [
    {
     "data": {
      "text/plain": [
       "0     578\n",
       "7     177\n",
       "6     174\n",
       "5     170\n",
       "8     139\n",
       "4      57\n",
       "1      48\n",
       "10     45\n",
       "3      39\n",
       "9      38\n",
       "2      14\n",
       "Name: Trust_players, dtype: int64"
      ]
     },
     "execution_count": 12,
     "metadata": {},
     "output_type": "execute_result"
    }
   ],
   "source": [
    "df_players['Trust_players'].value_counts()"
   ]
  },
  {
   "cell_type": "code",
   "execution_count": 13,
   "metadata": {},
   "outputs": [
    {
     "name": "stdout",
     "output_type": "stream",
     "text": [
      "2.617103432696469e-121\n",
      "reject null hypothesis\n"
     ]
    }
   ],
   "source": [
    "# verifying the correlation between field trust and players\n",
    "ttest,pval = stats.ttest_rel(df['Q2'], df_players['Trust_players'])\n",
    "print(pval)\n",
    "if pval<0.05:\n",
    "    print(\"reject null hypothesis\")\n",
    "else:\n",
    "    print(\"accept null hypothesis\")"
   ]
  },
  {
   "cell_type": "code",
   "execution_count": 14,
   "metadata": {},
   "outputs": [
    {
     "data": {
      "image/png": "[encoded data removed]",
      "text/plain": [
       "<Figure size 432x288 with 1 Axes>"
      ]
     },
     "metadata": {
      "needs_background": "light"
     },
     "output_type": "display_data"
    }
   ],
   "source": [
    "x_min = 0.0\n",
    "x_max = 10.0\n",
    "\n",
    "mean = 3.690331 \n",
    "std = 3.380091\n",
    "\n",
    "x = np.linspace(x_min, x_max, 100)\n",
    "\n",
    "y = scipy.stats.norm.pdf(x,mean,std)\n",
    "\n",
    "plt.plot(x,y, color='black')\n",
    "\n",
    "#----------------------------------------------------------------------------------------#\n",
    "# fill area 1\n",
    "\n",
    "pt1 = mean + std\n",
    "plt.plot([pt1 ,pt1 ],[0.0,scipy.stats.norm.pdf(pt1 ,mean, std)], color='black')\n",
    "\n",
    "pt2 = mean - std\n",
    "plt.plot([pt2 ,pt2 ],[0.0,scipy.stats.norm.pdf(pt2 ,mean, std)], color='black')\n",
    "\n",
    "ptx = np.linspace(pt1, pt2, 10)\n",
    "pty = scipy.stats.norm.pdf(ptx,mean,std)\n",
    "\n",
    "plt.fill_between(ptx, pty, color='#0b559f', alpha='1.0')\n",
    "\n",
    "#----------------------------------------------------------------------------------------#\n",
    "# fill area 2\n",
    "\n",
    "pt1 = mean + std\n",
    "plt.plot([pt1 ,pt1 ],[0.0,scipy.stats.norm.pdf(pt1 ,mean, std)], color='black')\n",
    "\n",
    "pt2 = mean + 2.0 * std\n",
    "plt.plot([pt2 ,pt2 ],[0.0,scipy.stats.norm.pdf(pt2 ,mean, std)], color='black')\n",
    "\n",
    "ptx = np.linspace(pt1, pt2, 10)\n",
    "pty = scipy.stats.norm.pdf(ptx,mean,std)\n",
    "\n",
    "plt.fill_between(ptx, pty, color='#2b7bba', alpha='1.0')\n",
    "\n",
    "#----------------------------------------------------------------------------------------#\n",
    "# fill area 3\n",
    "\n",
    "pt1 = mean - std\n",
    "plt.plot([pt1 ,pt1 ],[0.0,scipy.stats.norm.pdf(pt1 ,mean, std)], color='black')\n",
    "\n",
    "pt2 = mean - 2.0 * std\n",
    "plt.plot([pt2 ,pt2 ],[0.0,scipy.stats.norm.pdf(pt2 ,mean, std)], color='black')\n",
    "\n",
    "ptx = np.linspace(pt1, pt2, 10)\n",
    "pty = scipy.stats.norm.pdf(ptx,mean,std)\n",
    "\n",
    "plt.fill_between(ptx, pty, color='#2b7bba', alpha='1.0')\n",
    "\n",
    "#----------------------------------------------------------------------------------------#\n",
    "# fill area 4\n",
    "\n",
    "pt1 = mean + 2.0 * std\n",
    "plt.plot([pt1 ,pt1 ],[0.0,scipy.stats.norm.pdf(pt1 ,mean, std)], color='black')\n",
    "\n",
    "pt2 = mean + 3.0 * std\n",
    "plt.plot([pt2 ,pt2 ],[0.0,scipy.stats.norm.pdf(pt2 ,mean, std)], color='black')\n",
    "\n",
    "ptx = np.linspace(pt1, pt2, 10)\n",
    "pty = scipy.stats.norm.pdf(ptx,mean,std)\n",
    "\n",
    "plt.fill_between(ptx, pty, color='#539ecd', alpha='1.0')\n",
    "\n",
    "#----------------------------------------------------------------------------------------#\n",
    "# fill area 5\n",
    "\n",
    "pt1 = mean - 2.0 * std\n",
    "plt.plot([pt1 ,pt1 ],[0.0,scipy.stats.norm.pdf(pt1 ,mean, std)], color='black')\n",
    "\n",
    "pt2 = mean - 3.0 * std\n",
    "plt.plot([pt2 ,pt2 ],[0.0,scipy.stats.norm.pdf(pt2 ,mean, std)], color='black')\n",
    "\n",
    "ptx = np.linspace(pt1, pt2, 10)\n",
    "pty = scipy.stats.norm.pdf(ptx,mean,std)\n",
    "\n",
    "plt.fill_between(ptx, pty, color='#539ecd', alpha='1.0')\n",
    "\n",
    "#----------------------------------------------------------------------------------------#\n",
    "# fill area 6\n",
    "\n",
    "pt1 = mean + 3.0 * std\n",
    "plt.plot([pt1 ,pt1 ],[0.0,scipy.stats.norm.pdf(pt1 ,mean, std)], color='black')\n",
    "\n",
    "pt2 = mean + 10.0 *std\n",
    "plt.plot([pt2 ,pt2 ],[0.0,scipy.stats.norm.pdf(pt2 ,mean, std)], color='black')\n",
    "\n",
    "ptx = np.linspace(pt1, pt2, 10)\n",
    "pty = scipy.stats.norm.pdf(ptx,mean,std)\n",
    "\n",
    "plt.fill_between(ptx, pty, color='#89bedc', alpha='1.0')\n",
    "\n",
    "#----------------------------------------------------------------------------------------#\n",
    "# fill area 7\n",
    "\n",
    "pt1 = mean - 3.0 * std\n",
    "plt.plot([pt1 ,pt1 ],[0.0,scipy.stats.norm.pdf(pt1 ,mean, std)], color='black')\n",
    "\n",
    "pt2 = mean - 10.0 * std\n",
    "plt.plot([pt2 ,pt2 ],[0.0,scipy.stats.norm.pdf(pt2 ,mean, std)], color='black')\n",
    "\n",
    "ptx = np.linspace(pt1, pt2, 10)\n",
    "pty = scipy.stats.norm.pdf(ptx,mean,std)\n",
    "\n",
    "plt.fill_between(ptx, pty, color='#89bedc', alpha='1.0')\n",
    "\n",
    "#----------------------------------------------------------------------------------------#\n",
    "\n",
    "plt.grid()\n",
    "\n",
    "plt.xlim(x_min,x_max)\n",
    "plt.ylim(0,0.25)\n",
    "\n",
    "plt.title('Trust_players Distribution and analysis',fontsize=10)\n",
    "\n",
    "plt.xlabel('x')\n",
    "plt.ylabel('Normal Distribution')\n",
    "\n",
    "plt.savefig(\"normal_distribution_2.png\")\n",
    "plt.show()"
   ]
  },
  {
   "cell_type": "code",
   "execution_count": 15,
   "metadata": {},
   "outputs": [
    {
     "name": "stdout",
     "output_type": "stream",
     "text": [
      "2.758528149554379e-71\n"
     ]
    }
   ],
   "source": [
    "# alternate testing - measuring the influence between response 1 and 2\n",
    "ztest ,pval1 = stests.ztest(df['Q2'], x2=df_players['Trust_players'], value=0,alternative='two-sided')\n",
    "print(float(pval1))"
   ]
  },
  {
   "cell_type": "code",
   "execution_count": 16,
   "metadata": {},
   "outputs": [
    {
     "data": {
      "text/html": [
       "<div>\n",
       "<style scoped>\n",
       "    .dataframe tbody tr th:only-of-type {\n",
       "        vertical-align: middle;\n",
       "    }\n",
       "\n",
       "    .dataframe tbody tr th {\n",
       "        vertical-align: top;\n",
       "    }\n",
       "\n",
       "    .dataframe thead th {\n",
       "        text-align: right;\n",
       "    }\n",
       "</style>\n",
       "<table border=\"1\" class=\"dataframe\">\n",
       "  <thead>\n",
       "    <tr style=\"text-align: right;\">\n",
       "      <th></th>\n",
       "      <th>Country</th>\n",
       "      <th>Trust_KI</th>\n",
       "      <th>Trust_KI_Players</th>\n",
       "    </tr>\n",
       "  </thead>\n",
       "  <tbody>\n",
       "    <tr>\n",
       "      <th>1474</th>\n",
       "      <td>United Kingdom</td>\n",
       "      <td>0.0</td>\n",
       "      <td>0</td>\n",
       "    </tr>\n",
       "    <tr>\n",
       "      <th>1475</th>\n",
       "      <td>United Kingdom</td>\n",
       "      <td>0.0</td>\n",
       "      <td>0</td>\n",
       "    </tr>\n",
       "    <tr>\n",
       "      <th>1476</th>\n",
       "      <td>United Kingdom</td>\n",
       "      <td>0.0</td>\n",
       "      <td>0</td>\n",
       "    </tr>\n",
       "    <tr>\n",
       "      <th>1477</th>\n",
       "      <td>NaN</td>\n",
       "      <td>NaN</td>\n",
       "      <td>0</td>\n",
       "    </tr>\n",
       "    <tr>\n",
       "      <th>1478</th>\n",
       "      <td>NaN</td>\n",
       "      <td>NaN</td>\n",
       "      <td>0</td>\n",
       "    </tr>\n",
       "  </tbody>\n",
       "</table>\n",
       "</div>"
      ],
      "text/plain": [
       "             Country  Trust_KI  Trust_KI_Players\n",
       "1474  United Kingdom       0.0                 0\n",
       "1475  United Kingdom       0.0                 0\n",
       "1476  United Kingdom       0.0                 0\n",
       "1477             NaN       NaN                 0\n",
       "1478             NaN       NaN                 0"
      ]
     },
     "execution_count": 16,
     "metadata": {},
     "output_type": "execute_result"
    }
   ],
   "source": [
    "testdata = pd.read_excel(\"ProRes_dataprepped_final2_2.xlsx\",sheet_name='Anova_prep')\n",
    "testdata.head()\n",
    "testdata.tail()"
   ]
  },
  {
   "cell_type": "code",
   "execution_count": 17,
   "metadata": {},
   "outputs": [],
   "source": [
    "dC = testdata.Trust_KI.dropna()\n",
    "dT1 = testdata.Trust_KI_Players.dropna()"
   ]
  },
  {
   "cell_type": "code",
   "execution_count": 18,
   "metadata": {},
   "outputs": [
    {
     "name": "stdout",
     "output_type": "stream",
     "text": [
      "Trust_KI Control group\n",
      "\n",
      "count    1477.000000\n",
      "mean        5.737982\n",
      "std         2.843192\n",
      "min         0.000000\n",
      "25%         5.000000\n",
      "50%         6.000000\n",
      "75%         8.000000\n",
      "max        10.000000\n",
      "Name: Trust_KI, dtype: float64\n",
      "\n",
      "Trust_KI_Players group\n",
      "\n",
      "count    1479.000000\n",
      "mean        5.740365\n",
      "std         2.842065\n",
      "min         0.000000\n",
      "25%         5.000000\n",
      "50%         6.000000\n",
      "75%         8.000000\n",
      "max        10.000000\n",
      "Name: Trust_KI_Players, dtype: float64\n"
     ]
    }
   ],
   "source": [
    "print('Trust_KI Control group\\n')\n",
    "print(dC.describe())\n",
    "print('\\nTrust_KI_Players group\\n')\n",
    "print(dT1.describe())"
   ]
  },
  {
   "cell_type": "code",
   "execution_count": 19,
   "metadata": {},
   "outputs": [
    {
     "data": {
      "text/plain": [
       "((0.8814924955368042, 3.8011699275047253e-32),\n",
       " (0.8812650442123413, 3.43603610901078e-32))"
      ]
     },
     "execution_count": 19,
     "metadata": {},
     "output_type": "execute_result"
    }
   ],
   "source": [
    "stats.shapiro(dC), stats.shapiro(dT1), "
   ]
  },
  {
   "cell_type": "code",
   "execution_count": 20,
   "metadata": {},
   "outputs": [
    {
     "data": {
      "text/plain": [
       "LeveneResult(statistic=0.00016842089533157412, pvalue=0.9896464544616456)"
      ]
     },
     "execution_count": 20,
     "metadata": {},
     "output_type": "execute_result"
    }
   ],
   "source": [
    "stats.levene(dC, dT1)"
   ]
  },
  {
   "cell_type": "code",
   "execution_count": 21,
   "metadata": {},
   "outputs": [
    {
     "name": "stdout",
     "output_type": "stream",
     "text": [
      "F statistic = 0.001 and probability p = 0.982\n"
     ]
    }
   ],
   "source": [
    "F, p = stats.f_oneway(dC, dT1)\n",
    "print('F statistic = {:5.3f} and probability p = {:5.3f}'.format(F, p)) "
   ]
  },
  {
   "cell_type": "code",
   "execution_count": 22,
   "metadata": {},
   "outputs": [
    {
     "name": "stdout",
     "output_type": "stream",
     "text": [
      "Control vs T1: -0.022786317033686512 0.981822261615402\n"
     ]
    }
   ],
   "source": [
    "t, p = stats.ttest_ind(dC, dT1)\n",
    "print('Control vs T1:', t, p)\n"
   ]
  },
  {
   "cell_type": "code",
   "execution_count": 24,
   "metadata": {},
   "outputs": [
    {
     "name": "stdout",
     "output_type": "stream",
     "text": [
      "   Country  Trust_KI  Trust_KI_Players\n",
      "0  Austria       3.0                 8\n",
      "1  Austria       5.0                 3\n",
      "2  Austria       8.0                 5\n",
      "3  Belgium       6.0                 8\n",
      "4  Belgium       6.0                 6 \n",
      "\n",
      "Multiple Comparison of Means - Tukey HSD, FWER=0.05\n",
      "================================================\n",
      "group1 group2 meandiff p-adj  lower upper reject\n",
      "------------------------------------------------\n",
      "     0      1      nan 0.5566   nan   nan  False\n",
      "     0      2      nan 0.5566   nan   nan  False\n",
      "     0      3      nan 0.5566   nan   nan  False\n",
      "     0      4      nan 0.5566   nan   nan  False\n",
      "     0      5      nan 0.5566   nan   nan  False\n",
      "     0      6      nan 0.5566   nan   nan  False\n",
      "     0      7      nan 0.5566   nan   nan  False\n",
      "     0      8      nan 0.5566   nan   nan  False\n",
      "     0      9      nan 0.5566   nan   nan  False\n",
      "     0     10      nan 0.5566   nan   nan  False\n",
      "     1      2  -1.4717 0.5566   nan   nan  False\n",
      "     1      3  -0.4111 0.5566   nan   nan  False\n",
      "     1      4   0.2517 0.5566   nan   nan  False\n",
      "     1      5   1.0477 0.5566   nan   nan  False\n",
      "     1      6   1.8915 0.5566   nan   nan  False\n",
      "     1      7   2.7809 0.5566   nan   nan  False\n",
      "     1      8   3.6798 0.5566   nan   nan  False\n",
      "     1      9   1.1917 0.5566   nan   nan  False\n",
      "     1     10  -0.3309 0.5566   nan   nan  False\n",
      "     2      3   1.0606 0.5566   nan   nan  False\n",
      "     2      4   1.7234 0.5566   nan   nan  False\n",
      "     2      5   2.5194 0.5566   nan   nan  False\n",
      "     2      6   3.3632 0.5566   nan   nan  False\n",
      "     2      7   4.2526 0.5566   nan   nan  False\n",
      "     2      8   5.1515 0.5566   nan   nan  False\n",
      "     2      9   2.6634 0.5566   nan   nan  False\n",
      "     2     10   1.1408 0.5566   nan   nan  False\n",
      "     3      4   0.6628 0.5566   nan   nan  False\n",
      "     3      5   1.4588 0.5566   nan   nan  False\n",
      "     3      6   2.3026 0.5566   nan   nan  False\n",
      "     3      7    3.192 0.5566   nan   nan  False\n",
      "     3      8   4.0909 0.5566   nan   nan  False\n",
      "     3      9   1.6028 0.5566   nan   nan  False\n",
      "     3     10   0.0802 0.5566   nan   nan  False\n",
      "     4      5    0.796 0.5566   nan   nan  False\n",
      "     4      6   1.6398 0.5566   nan   nan  False\n",
      "     4      7   2.5292 0.5566   nan   nan  False\n",
      "     4      8   3.4281 0.5566   nan   nan  False\n",
      "     4      9     0.94 0.5566   nan   nan  False\n",
      "     4     10  -0.5826 0.5566   nan   nan  False\n",
      "     5      6   0.8438 0.5566   nan   nan  False\n",
      "     5      7   1.7332 0.5566   nan   nan  False\n",
      "     5      8   2.6321 0.5566   nan   nan  False\n",
      "     5      9   0.1439 0.5566   nan   nan  False\n",
      "     5     10  -1.3786 0.5566   nan   nan  False\n",
      "     6      7   0.8894 0.5566   nan   nan  False\n",
      "     6      8   1.7883 0.5566   nan   nan  False\n",
      "     6      9  -0.6999 0.5566   nan   nan  False\n",
      "     6     10  -2.2224 0.5566   nan   nan  False\n",
      "     7      8   0.8989 0.5566   nan   nan  False\n",
      "     7      9  -1.5892 0.5566   nan   nan  False\n",
      "     7     10  -3.1118 0.5566   nan   nan  False\n",
      "     8      9  -2.4881 0.5566   nan   nan  False\n",
      "     8     10  -4.0107 0.5566   nan   nan  False\n",
      "     9     10  -1.5225 0.5566   nan   nan  False\n",
      "------------------------------------------------\n"
     ]
    }
   ],
   "source": [
    "import statsmodels.stats.multicomp as ml\n",
    "\n",
    "# Note that data in sheet have been preformatted in Group and Score columns \n",
    "dtuk = pd.read_excel(\"ProRes_dataprepped_final2_2.xlsx\",sheet_name='Anova_prep')\n",
    "print(dtuk.head(),'\\n')\n",
    "\n",
    "mcobj = ml.MultiComparison(dtuk.Trust_KI, dtuk.Trust_KI_Players)\n",
    "out = mcobj.tukeyhsd(0.05) \n",
    "\n",
    "print(out)\n",
    "import warnings\n",
    "warnings.filterwarnings(\"ignore\")"
   ]
  }
 ],
 "metadata": {
  "kernelspec": {
   "display_name": "Python 3",
   "language": "python",
   "name": "python3"
  },
  "language_info": {
   "codemirror_mode": {
    "name": "ipython",
    "version": 3
   },
   "file_extension": ".py",
   "mimetype": "text/x-python",
   "name": "python",
   "nbconvert_exporter": "python",
   "pygments_lexer": "ipython3",
   "version": "3.7.3"
  }
 },
 "nbformat": 4,
 "nbformat_minor": 2
}
